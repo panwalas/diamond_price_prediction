{
  "nbformat": 4,
  "nbformat_minor": 0,
  "metadata": {
    "colab": {
      "name": "Diamondprice.ipynb",
      "provenance": [],
      "machine_shape": "hm"
    },
    "kernelspec": {
      "name": "python3",
      "display_name": "Python 3"
    },
    "accelerator": "TPU"
  },
  "cells": [
    {
      "cell_type": "code",
      "metadata": {
        "id": "gnTgmHlZFaqw",
        "colab_type": "code",
        "outputId": "54a2bdf5-7cdd-429f-ee83-af5caa500d7d",
        "colab": {
          "base_uri": "https://localhost:8080/",
          "height": 34
        }
      },
      "source": [
        "from google.colab import drive\n",
        "drive.mount('/content/drive')"
      ],
      "execution_count": 0,
      "outputs": [
        {
          "output_type": "stream",
          "text": [
            "Drive already mounted at /content/drive; to attempt to forcibly remount, call drive.mount(\"/content/drive\", force_remount=True).\n"
          ],
          "name": "stdout"
        }
      ]
    },
    {
      "cell_type": "code",
      "metadata": {
        "id": "g9fEYQFr4nPm",
        "colab_type": "code",
        "colab": {}
      },
      "source": [
        "import pandas as pd\n",
        "import numpy as np\n",
        "from sklearn import preprocessing"
      ],
      "execution_count": 0,
      "outputs": []
    },
    {
      "cell_type": "code",
      "metadata": {
        "id": "uMXO8NI06ezP",
        "colab_type": "code",
        "outputId": "9d17a74f-4762-4aab-f785-8fe76fb9fa2d",
        "colab": {
          "base_uri": "https://localhost:8080/",
          "height": 402
        }
      },
      "source": [
        "df = pd.read_csv(\"/content/drive/My Drive/ML-Blog/diamonds.csv\")\n",
        "df = df.drop(df.columns[0], axis=1)\n",
        "df"
      ],
      "execution_count": 0,
      "outputs": [
        {
          "output_type": "execute_result",
          "data": {
            "text/html": [
              "<div>\n",
              "<style scoped>\n",
              "    .dataframe tbody tr th:only-of-type {\n",
              "        vertical-align: middle;\n",
              "    }\n",
              "\n",
              "    .dataframe tbody tr th {\n",
              "        vertical-align: top;\n",
              "    }\n",
              "\n",
              "    .dataframe thead th {\n",
              "        text-align: right;\n",
              "    }\n",
              "</style>\n",
              "<table border=\"1\" class=\"dataframe\">\n",
              "  <thead>\n",
              "    <tr style=\"text-align: right;\">\n",
              "      <th></th>\n",
              "      <th>carat</th>\n",
              "      <th>cut</th>\n",
              "      <th>color</th>\n",
              "      <th>clarity</th>\n",
              "      <th>depth</th>\n",
              "      <th>table</th>\n",
              "      <th>price</th>\n",
              "      <th>x</th>\n",
              "      <th>y</th>\n",
              "      <th>z</th>\n",
              "    </tr>\n",
              "  </thead>\n",
              "  <tbody>\n",
              "    <tr>\n",
              "      <th>0</th>\n",
              "      <td>0.23</td>\n",
              "      <td>Ideal</td>\n",
              "      <td>E</td>\n",
              "      <td>SI2</td>\n",
              "      <td>61.5</td>\n",
              "      <td>55.0</td>\n",
              "      <td>326</td>\n",
              "      <td>3.95</td>\n",
              "      <td>3.98</td>\n",
              "      <td>2.43</td>\n",
              "    </tr>\n",
              "    <tr>\n",
              "      <th>1</th>\n",
              "      <td>0.21</td>\n",
              "      <td>Premium</td>\n",
              "      <td>E</td>\n",
              "      <td>SI1</td>\n",
              "      <td>59.8</td>\n",
              "      <td>61.0</td>\n",
              "      <td>326</td>\n",
              "      <td>3.89</td>\n",
              "      <td>3.84</td>\n",
              "      <td>2.31</td>\n",
              "    </tr>\n",
              "    <tr>\n",
              "      <th>2</th>\n",
              "      <td>0.23</td>\n",
              "      <td>Good</td>\n",
              "      <td>E</td>\n",
              "      <td>VS1</td>\n",
              "      <td>56.9</td>\n",
              "      <td>65.0</td>\n",
              "      <td>327</td>\n",
              "      <td>4.05</td>\n",
              "      <td>4.07</td>\n",
              "      <td>2.31</td>\n",
              "    </tr>\n",
              "    <tr>\n",
              "      <th>3</th>\n",
              "      <td>0.29</td>\n",
              "      <td>Premium</td>\n",
              "      <td>I</td>\n",
              "      <td>VS2</td>\n",
              "      <td>62.4</td>\n",
              "      <td>58.0</td>\n",
              "      <td>334</td>\n",
              "      <td>4.20</td>\n",
              "      <td>4.23</td>\n",
              "      <td>2.63</td>\n",
              "    </tr>\n",
              "    <tr>\n",
              "      <th>4</th>\n",
              "      <td>0.31</td>\n",
              "      <td>Good</td>\n",
              "      <td>J</td>\n",
              "      <td>SI2</td>\n",
              "      <td>63.3</td>\n",
              "      <td>58.0</td>\n",
              "      <td>335</td>\n",
              "      <td>4.34</td>\n",
              "      <td>4.35</td>\n",
              "      <td>2.75</td>\n",
              "    </tr>\n",
              "    <tr>\n",
              "      <th>...</th>\n",
              "      <td>...</td>\n",
              "      <td>...</td>\n",
              "      <td>...</td>\n",
              "      <td>...</td>\n",
              "      <td>...</td>\n",
              "      <td>...</td>\n",
              "      <td>...</td>\n",
              "      <td>...</td>\n",
              "      <td>...</td>\n",
              "      <td>...</td>\n",
              "    </tr>\n",
              "    <tr>\n",
              "      <th>53935</th>\n",
              "      <td>0.72</td>\n",
              "      <td>Ideal</td>\n",
              "      <td>D</td>\n",
              "      <td>SI1</td>\n",
              "      <td>60.8</td>\n",
              "      <td>57.0</td>\n",
              "      <td>2757</td>\n",
              "      <td>5.75</td>\n",
              "      <td>5.76</td>\n",
              "      <td>3.50</td>\n",
              "    </tr>\n",
              "    <tr>\n",
              "      <th>53936</th>\n",
              "      <td>0.72</td>\n",
              "      <td>Good</td>\n",
              "      <td>D</td>\n",
              "      <td>SI1</td>\n",
              "      <td>63.1</td>\n",
              "      <td>55.0</td>\n",
              "      <td>2757</td>\n",
              "      <td>5.69</td>\n",
              "      <td>5.75</td>\n",
              "      <td>3.61</td>\n",
              "    </tr>\n",
              "    <tr>\n",
              "      <th>53937</th>\n",
              "      <td>0.70</td>\n",
              "      <td>Very Good</td>\n",
              "      <td>D</td>\n",
              "      <td>SI1</td>\n",
              "      <td>62.8</td>\n",
              "      <td>60.0</td>\n",
              "      <td>2757</td>\n",
              "      <td>5.66</td>\n",
              "      <td>5.68</td>\n",
              "      <td>3.56</td>\n",
              "    </tr>\n",
              "    <tr>\n",
              "      <th>53938</th>\n",
              "      <td>0.86</td>\n",
              "      <td>Premium</td>\n",
              "      <td>H</td>\n",
              "      <td>SI2</td>\n",
              "      <td>61.0</td>\n",
              "      <td>58.0</td>\n",
              "      <td>2757</td>\n",
              "      <td>6.15</td>\n",
              "      <td>6.12</td>\n",
              "      <td>3.74</td>\n",
              "    </tr>\n",
              "    <tr>\n",
              "      <th>53939</th>\n",
              "      <td>0.75</td>\n",
              "      <td>Ideal</td>\n",
              "      <td>D</td>\n",
              "      <td>SI2</td>\n",
              "      <td>62.2</td>\n",
              "      <td>55.0</td>\n",
              "      <td>2757</td>\n",
              "      <td>5.83</td>\n",
              "      <td>5.87</td>\n",
              "      <td>3.64</td>\n",
              "    </tr>\n",
              "  </tbody>\n",
              "</table>\n",
              "<p>53940 rows × 10 columns</p>\n",
              "</div>"
            ],
            "text/plain": [
              "       carat        cut color clarity  depth  table  price     x     y     z\n",
              "0       0.23      Ideal     E     SI2   61.5   55.0    326  3.95  3.98  2.43\n",
              "1       0.21    Premium     E     SI1   59.8   61.0    326  3.89  3.84  2.31\n",
              "2       0.23       Good     E     VS1   56.9   65.0    327  4.05  4.07  2.31\n",
              "3       0.29    Premium     I     VS2   62.4   58.0    334  4.20  4.23  2.63\n",
              "4       0.31       Good     J     SI2   63.3   58.0    335  4.34  4.35  2.75\n",
              "...      ...        ...   ...     ...    ...    ...    ...   ...   ...   ...\n",
              "53935   0.72      Ideal     D     SI1   60.8   57.0   2757  5.75  5.76  3.50\n",
              "53936   0.72       Good     D     SI1   63.1   55.0   2757  5.69  5.75  3.61\n",
              "53937   0.70  Very Good     D     SI1   62.8   60.0   2757  5.66  5.68  3.56\n",
              "53938   0.86    Premium     H     SI2   61.0   58.0   2757  6.15  6.12  3.74\n",
              "53939   0.75      Ideal     D     SI2   62.2   55.0   2757  5.83  5.87  3.64\n",
              "\n",
              "[53940 rows x 10 columns]"
            ]
          },
          "metadata": {
            "tags": []
          },
          "execution_count": 3
        }
      ]
    },
    {
      "cell_type": "code",
      "metadata": {
        "id": "ZAFTukaE7crr",
        "colab_type": "code",
        "outputId": "74a58960-bb84-4de6-8fcb-53c6709f728b",
        "colab": {
          "base_uri": "https://localhost:8080/",
          "height": 34
        }
      },
      "source": [
        "set(df[\"cut\"])"
      ],
      "execution_count": 0,
      "outputs": [
        {
          "output_type": "execute_result",
          "data": {
            "text/plain": [
              "{'Fair', 'Good', 'Ideal', 'Premium', 'Very Good'}"
            ]
          },
          "metadata": {
            "tags": []
          },
          "execution_count": 4
        }
      ]
    },
    {
      "cell_type": "code",
      "metadata": {
        "id": "wpbca-ZF71W7",
        "colab_type": "code",
        "outputId": "6409c53e-0907-44e0-f579-44d22f92dc98",
        "colab": {
          "base_uri": "https://localhost:8080/",
          "height": 34
        }
      },
      "source": [
        "set(df[\"color\"])"
      ],
      "execution_count": 0,
      "outputs": [
        {
          "output_type": "execute_result",
          "data": {
            "text/plain": [
              "{'D', 'E', 'F', 'G', 'H', 'I', 'J'}"
            ]
          },
          "metadata": {
            "tags": []
          },
          "execution_count": 5
        }
      ]
    },
    {
      "cell_type": "code",
      "metadata": {
        "id": "RDNUR0tu77PK",
        "colab_type": "code",
        "outputId": "9e2649f9-8c8f-4559-f66e-ed74dce94443",
        "colab": {
          "base_uri": "https://localhost:8080/",
          "height": 34
        }
      },
      "source": [
        "set(df[\"clarity\"])"
      ],
      "execution_count": 0,
      "outputs": [
        {
          "output_type": "execute_result",
          "data": {
            "text/plain": [
              "{'I1', 'IF', 'SI1', 'SI2', 'VS1', 'VS2', 'VVS1', 'VVS2'}"
            ]
          },
          "metadata": {
            "tags": []
          },
          "execution_count": 6
        }
      ]
    },
    {
      "cell_type": "code",
      "metadata": {
        "id": "ABoG9eZ38hn2",
        "colab_type": "code",
        "outputId": "d10c7461-54cb-4ef8-a97a-ae4db68e17a2",
        "colab": {
          "base_uri": "https://localhost:8080/",
          "height": 269
        }
      },
      "source": [
        "df.info()"
      ],
      "execution_count": 0,
      "outputs": [
        {
          "output_type": "stream",
          "text": [
            "<class 'pandas.core.frame.DataFrame'>\n",
            "RangeIndex: 53940 entries, 0 to 53939\n",
            "Data columns (total 10 columns):\n",
            "carat      53940 non-null float64\n",
            "cut        53940 non-null object\n",
            "color      53940 non-null object\n",
            "clarity    53940 non-null object\n",
            "depth      53940 non-null float64\n",
            "table      53940 non-null float64\n",
            "price      53940 non-null int64\n",
            "x          53940 non-null float64\n",
            "y          53940 non-null float64\n",
            "z          53940 non-null float64\n",
            "dtypes: float64(6), int64(1), object(3)\n",
            "memory usage: 4.1+ MB\n"
          ],
          "name": "stdout"
        }
      ]
    },
    {
      "cell_type": "code",
      "metadata": {
        "id": "s69uPQzoV1GD",
        "colab_type": "code",
        "outputId": "d0e3c3ea-0015-4b1e-d47b-206cbd13a524",
        "colab": {
          "base_uri": "https://localhost:8080/",
          "height": 454
        }
      },
      "source": [
        "df['price/wt']=df['price']/df['carat']\n",
        "print(df.groupby('cut')['price/wt'].mean().sort_values())\n",
        "print(df.groupby('color')['price/wt'].mean().sort_values())\n",
        "print(df.groupby('clarity')['price/wt'].mean().sort_values())"
      ],
      "execution_count": 0,
      "outputs": [
        {
          "output_type": "stream",
          "text": [
            "cut\n",
            "Fair         3767.255681\n",
            "Good         3860.027680\n",
            "Ideal        3919.699825\n",
            "Very Good    4014.128366\n",
            "Premium      4222.905374\n",
            "Name: price/wt, dtype: float64\n",
            "color\n",
            "E    3804.611475\n",
            "J    3825.649192\n",
            "D    3952.564280\n",
            "I    3996.402051\n",
            "H    4008.026941\n",
            "F    4134.730684\n",
            "G    4163.411524\n",
            "Name: price/wt, dtype: float64\n",
            "clarity\n",
            "I1      2796.296437\n",
            "SI1     3849.078018\n",
            "VVS1    3851.410558\n",
            "SI2     4010.853865\n",
            "VS2     4080.526787\n",
            "VS1     4155.816808\n",
            "VVS2    4204.166013\n",
            "IF      4259.931736\n",
            "Name: price/wt, dtype: float64\n"
          ],
          "name": "stdout"
        }
      ]
    },
    {
      "cell_type": "code",
      "metadata": {
        "id": "ZWsEY1uNWt6W",
        "colab_type": "code",
        "outputId": "e1271b5d-662d-45db-b404-193c68babfa1",
        "colab": {
          "base_uri": "https://localhost:8080/",
          "height": 202
        }
      },
      "source": [
        "print(df.corr())"
      ],
      "execution_count": 0,
      "outputs": [
        {
          "output_type": "stream",
          "text": [
            "             carat     depth     table  ...         y         z  price/wt\n",
            "carat     1.000000  0.028224  0.181618  ...  0.951722  0.953387  0.769744\n",
            "depth     0.028224  1.000000 -0.295779  ... -0.029341  0.094924 -0.035669\n",
            "table     0.181618 -0.295779  1.000000  ...  0.183760  0.150929  0.084700\n",
            "price     0.921591 -0.010647  0.127134  ...  0.865421  0.861249  0.912377\n",
            "x         0.975094 -0.025289  0.195344  ...  0.974701  0.970772  0.787692\n",
            "y         0.951722 -0.029341  0.183760  ...  1.000000  0.952006  0.772065\n",
            "z         0.953387  0.094924  0.150929  ...  0.952006  1.000000  0.765884\n",
            "price/wt  0.769744 -0.035669  0.084700  ...  0.772065  0.765884  1.000000\n",
            "\n",
            "[8 rows x 8 columns]\n"
          ],
          "name": "stdout"
        }
      ]
    },
    {
      "cell_type": "code",
      "metadata": {
        "id": "w8G6ur0BW9xR",
        "colab_type": "code",
        "colab": {}
      },
      "source": [
        "del df['depth']"
      ],
      "execution_count": 0,
      "outputs": []
    },
    {
      "cell_type": "code",
      "metadata": {
        "id": "vXFE5j6aXHIe",
        "colab_type": "code",
        "colab": {}
      },
      "source": [
        "df['cut']=df['cut'].map({'Ideal':1,'Good':2,'Very Good':3,'Fair':4,'Premium':5})\n",
        "df['color']=df['color'].map({'E':1,'D':2,'F':3,'G':4,'H':5,'I':6,'J':7})\n",
        "df['clarity']=df['clarity'].map({'VVS1':1,'IF':2,'VVS2':3,'VS1':4,'I1':5,'VS2':6,'SI1':7,'SI2':8})"
      ],
      "execution_count": 0,
      "outputs": []
    },
    {
      "cell_type": "code",
      "metadata": {
        "id": "zVD7F2xMXR4W",
        "colab_type": "code",
        "outputId": "792029c5-2657-4151-aedf-50843e4f18e1",
        "colab": {
          "base_uri": "https://localhost:8080/",
          "height": 420
        }
      },
      "source": [
        "df['width_top']=(df['y']*df['table'])  \n",
        "\n",
        "df = df.drop(['price/wt','table'], axis=1) \n",
        "print(df.corr())\n",
        "\n",
        "df['cut/wt']=df['cut']/df['carat']\n",
        "df['color/wt']=df['color']/df['carat']\n",
        "df['clarity/wt']=df['clarity']/df['carat']\n",
        "\n",
        "df = df.drop(['cut','color','clarity'], axis=1)\n",
        "\n",
        "print(df.corr())"
      ],
      "execution_count": 0,
      "outputs": [
        {
          "output_type": "stream",
          "text": [
            "              carat       cut     color  ...         y         z  width_top\n",
            "carat      1.000000  0.165288  0.289789  ...  0.951722  0.953387   0.937771\n",
            "cut        0.165288  1.000000  0.038791  ...  0.152394  0.148141   0.234585\n",
            "color      0.289789  0.038791  1.000000  ...  0.262518  0.267210   0.254209\n",
            "clarity    0.321050  0.163675 -0.021775  ...  0.332269  0.338033   0.341672\n",
            "price      0.921591  0.112423  0.174458  ...  0.865421  0.861249   0.845339\n",
            "x          0.975094  0.169897  0.269458  ...  0.974701  0.970772   0.961277\n",
            "y          0.951722  0.152394  0.262518  ...  1.000000  0.952006   0.982309\n",
            "z          0.953387  0.148141  0.267210  ...  0.952006  1.000000   0.930909\n",
            "width_top  0.937771  0.234585  0.254209  ...  0.982309  0.930909   1.000000\n",
            "\n",
            "[9 rows x 9 columns]\n",
            "               carat     price         x  ...    cut/wt  color/wt  clarity/wt\n",
            "carat       1.000000  0.921591  0.975094  ... -0.475178 -0.534729   -0.603022\n",
            "price       0.921591  1.000000  0.884435  ... -0.426055 -0.497618   -0.588198\n",
            "x           0.975094  0.884435  1.000000  ... -0.515933 -0.589972   -0.639587\n",
            "y           0.951722  0.865421  0.974701  ... -0.512193 -0.576191   -0.627004\n",
            "z           0.953387  0.861249  0.970772  ... -0.517063 -0.575074   -0.624962\n",
            "width_top   0.937771  0.845339  0.961277  ... -0.443456 -0.570488   -0.609079\n",
            "cut/wt     -0.475178 -0.426055 -0.515933  ...  1.000000  0.358930    0.433885\n",
            "color/wt   -0.534729 -0.497618 -0.589972  ...  0.358930  1.000000    0.339830\n",
            "clarity/wt -0.603022 -0.588198 -0.639587  ...  0.433885  0.339830    1.000000\n",
            "\n",
            "[9 rows x 9 columns]\n"
          ],
          "name": "stdout"
        }
      ]
    },
    {
      "cell_type": "code",
      "metadata": {
        "id": "sJxupqXuX4Fl",
        "colab_type": "code",
        "outputId": "04fe8f5f-847a-443a-dd27-f4b273e40b8b",
        "colab": {
          "base_uri": "https://localhost:8080/",
          "height": 218
        }
      },
      "source": [
        "X=df.drop(['price'],axis=1) \n",
        "print(X.head())\n",
        "Y=df['price']\n",
        "print(Y.head())"
      ],
      "execution_count": 0,
      "outputs": [
        {
          "output_type": "stream",
          "text": [
            "   carat     x     y     z  width_top     cut/wt   color/wt  clarity/wt\n",
            "0   0.23  3.95  3.98  2.43     218.90   4.347826   4.347826   34.782609\n",
            "1   0.21  3.89  3.84  2.31     234.24  23.809524   4.761905   33.333333\n",
            "2   0.23  4.05  4.07  2.31     264.55   8.695652   4.347826   17.391304\n",
            "3   0.29  4.20  4.23  2.63     245.34  17.241379  20.689655   20.689655\n",
            "4   0.31  4.34  4.35  2.75     252.30   6.451613  22.580645   25.806452\n",
            "0    326\n",
            "1    326\n",
            "2    327\n",
            "3    334\n",
            "4    335\n",
            "Name: price, dtype: int64\n"
          ],
          "name": "stdout"
        }
      ]
    },
    {
      "cell_type": "code",
      "metadata": {
        "id": "CTtXStXjYFOY",
        "colab_type": "code",
        "colab": {}
      },
      "source": [
        "from sklearn.model_selection import train_test_split\n",
        "from sklearn.metrics import mean_squared_error\n",
        "from sklearn.metrics import mean_absolute_error\n",
        "from sklearn.model_selection import cross_val_score\n",
        "from sklearn import linear_model"
      ],
      "execution_count": 0,
      "outputs": []
    },
    {
      "cell_type": "code",
      "metadata": {
        "id": "AR6khRQlYhfc",
        "colab_type": "code",
        "colab": {}
      },
      "source": [
        "X_train,X_test,Y_train,Y_test=train_test_split(X,Y,test_size=0.3,random_state=42)"
      ],
      "execution_count": 0,
      "outputs": []
    },
    {
      "cell_type": "code",
      "metadata": {
        "id": "QZN5mfCPY_P_",
        "colab_type": "code",
        "outputId": "28250b16-2ca1-43c6-fd5f-465cdd7343d7",
        "colab": {
          "base_uri": "https://localhost:8080/",
          "height": 235
        }
      },
      "source": [
        "reg_all=linear_model.LinearRegression()\n",
        "\n",
        "reg_all.fit(X_train,Y_train) #fitting the model for the x and y train\n",
        "\n",
        "y_pred=reg_all.predict(X_test) #predicting y(the target variable), on x test\n",
        "\n",
        "Rsquare=reg_all.score(X_test,Y_test)\n",
        "print(\"Rsquare: %f\" %(Rsquare))\n",
        "\n",
        "#List all the indepedent variables with the coeffecient from the linear regression model\n",
        "coeff_df = pd.DataFrame(X_train.columns)\n",
        "coeff_df.columns = ['Variable']\n",
        "coeff_df[\"Coeff\"] = pd.Series(reg_all.coef_)\n",
        "\n",
        "coeff_df.sort_values(by='Coeff', ascending=True)\n",
        "print(coeff_df)\n",
        "\n",
        "#print intercept and rmse\n",
        "print(\"Intercept: %f\" %(reg_all.intercept_))\n",
        "mae = mean_absolute_error(Y_test,y_pred)\n",
        "print(\"mae: %f\" %(mae))\n",
        "rmse=np.sqrt(mean_squared_error(Y_test,y_pred))\n",
        "print(\"rmse: %f\" %(rmse))"
      ],
      "execution_count": 0,
      "outputs": [
        {
          "output_type": "stream",
          "text": [
            "Rsquare: 0.861508\n",
            "     Variable         Coeff\n",
            "0       carat  10675.558686\n",
            "1           x  -1192.078847\n",
            "2           y    957.349861\n",
            "3           z   -615.526175\n",
            "4   width_top    -15.053996\n",
            "5      cut/wt     30.065902\n",
            "6    color/wt    -48.086153\n",
            "7  clarity/wt    -64.338733\n",
            "Intercept: 4625.114040\n",
            "mae: 895.345484\n",
            "rmse: 1469.665116\n"
          ],
          "name": "stdout"
        }
      ]
    },
    {
      "cell_type": "code",
      "metadata": {
        "id": "0-VYBCFrZGAr",
        "colab_type": "code",
        "outputId": "0e9d1b74-8ef5-4b93-c522-dd211975d8fd",
        "colab": {
          "base_uri": "https://localhost:8080/",
          "height": 67
        }
      },
      "source": [
        "from sklearn.preprocessing import PolynomialFeatures\n",
        "\n",
        "X_train,X_test,Y_train,Y_test=train_test_split(X,Y,test_size=0.3,random_state=42)\n",
        "poly = PolynomialFeatures(degree = 2)\n",
        "X_train = poly.fit_transform(X_train)\n",
        "X_test = poly.fit_transform(X_test)\n",
        "\n",
        "reg_all = linear_model.LinearRegression()\n",
        "\n",
        "reg_all.fit(X_train,Y_train) #fitting the model for the x and y train\n",
        "\n",
        "y_pred=reg_all.predict(X_test) #predicting y(the target variable), on x test\n",
        "\n",
        "mae = mean_absolute_error(Y_test,y_pred)\n",
        "print(\"mae: %f\" %(mae))\n",
        "\n",
        "Rsquare=reg_all.score(X_test,Y_test)\n",
        "print(\"Rsquare: %f\" %(Rsquare))\n",
        "\n",
        "rmse=np.sqrt(mean_squared_error(Y_test,y_pred))\n",
        "print(\"rmse: %f\" %(rmse))"
      ],
      "execution_count": 0,
      "outputs": [
        {
          "output_type": "stream",
          "text": [
            "mae: 549.500225\n",
            "Rsquare: 0.933456\n",
            "rmse: 1018.734087\n"
          ],
          "name": "stdout"
        }
      ]
    },
    {
      "cell_type": "code",
      "metadata": {
        "id": "R33gM84MhZKX",
        "colab_type": "code",
        "outputId": "16752713-be61-4c10-f335-482acb9b81a7",
        "colab": {
          "base_uri": "https://localhost:8080/",
          "height": 67
        }
      },
      "source": [
        "from sklearn.preprocessing import PolynomialFeatures\n",
        "\n",
        "X_train,X_test,Y_train,Y_test=train_test_split(X,Y,test_size=0.3,random_state=42)\n",
        "poly = PolynomialFeatures(degree = 3)\n",
        "X_train = poly.fit_transform(X_train)\n",
        "X_test = poly.fit_transform(X_test)\n",
        "\n",
        "reg_all = linear_model.LinearRegression()\n",
        "\n",
        "reg_all.fit(X_train,Y_train) #fitting the model for the x and y train\n",
        "\n",
        "y_pred=reg_all.predict(X_test) #predicting y(the target variable), on x test\n",
        "\n",
        "mae = mean_absolute_error(Y_test,y_pred)\n",
        "print(\"mae: %f\" %(mae))\n",
        "\n",
        "Rsquare=reg_all.score(X_test,Y_test)\n",
        "print(\"Rsquare: %f\" %(Rsquare))\n",
        "\n",
        "rmse=np.sqrt(mean_squared_error(Y_test,y_pred))\n",
        "print(\"rmse: %f\" %(rmse))"
      ],
      "execution_count": 0,
      "outputs": [
        {
          "output_type": "stream",
          "text": [
            "mae: 912.372488\n",
            "Rsquare: -188.653181\n",
            "rmse: 54385.881154\n"
          ],
          "name": "stdout"
        }
      ]
    },
    {
      "cell_type": "code",
      "metadata": {
        "id": "wkhKBaFmal2D",
        "colab_type": "code",
        "outputId": "8eba9c06-e0bf-4261-ab73-51bee4355a50",
        "colab": {
          "base_uri": "https://localhost:8080/",
          "height": 67
        }
      },
      "source": [
        "from sklearn.tree import DecisionTreeRegressor\n",
        "\n",
        "X_train,X_test,Y_train,Y_test=train_test_split(X,Y,test_size=0.3,random_state=42)\n",
        "\n",
        "regressor = DecisionTreeRegressor(random_state = 0)  \n",
        "regressor.fit(X_train, Y_train) \n",
        "y_pred = regressor.predict(X_test)\n",
        "\n",
        "mae = mean_absolute_error(Y_test,y_pred)\n",
        "print(\"mae: %f\" %(mae))\n",
        "\n",
        "Rsquare=regressor.score(X_test,Y_test)\n",
        "print(\"Rsquare: %f\" %(Rsquare))\n",
        "\n",
        "rmse=np.sqrt(mean_squared_error(Y_test,y_pred))\n",
        "print(\"rmse: %f\" %(rmse))"
      ],
      "execution_count": 0,
      "outputs": [
        {
          "output_type": "stream",
          "text": [
            "mae: 373.421487\n",
            "Rsquare: 0.961235\n",
            "rmse: 777.550255\n"
          ],
          "name": "stdout"
        }
      ]
    },
    {
      "cell_type": "code",
      "metadata": {
        "id": "5B_LSotud2Op",
        "colab_type": "code",
        "outputId": "e7865b7f-32ae-44ac-88f3-0b3319c9d7ce",
        "colab": {
          "base_uri": "https://localhost:8080/",
          "height": 67
        }
      },
      "source": [
        "from sklearn.svm import SVR\n",
        "\n",
        "regressor = SVR(kernel='rbf')\n",
        "regressor.fit(X_train,Y_train)\n",
        "y_pred = regressor.predict(X_test)\n",
        "\n",
        "mae = mean_absolute_error(Y_test,y_pred)\n",
        "print(\"mae: %f\" %(mae))\n",
        "\n",
        "Rsquare=regressor.score(X_test,Y_test)\n",
        "print(\"Rsquare: %f\" %(Rsquare))\n",
        "\n",
        "rmse=np.sqrt(mean_squared_error(Y_test,y_pred))\n",
        "print(\"rmse: %f\" %(rmse))"
      ],
      "execution_count": 0,
      "outputs": [
        {
          "output_type": "stream",
          "text": [
            "mae: 2672.065590\n",
            "Rsquare: -0.097922\n",
            "rmse: 4138.012816\n"
          ],
          "name": "stdout"
        }
      ]
    },
    {
      "cell_type": "code",
      "metadata": {
        "id": "diEhV2OlbrxK",
        "colab_type": "code",
        "outputId": "a30b8ff4-8cbe-4134-98b9-3de923dc3feb",
        "colab": {
          "base_uri": "https://localhost:8080/",
          "height": 67
        }
      },
      "source": [
        "from sklearn.ensemble import RandomForestClassifier\n",
        "\n",
        "rf = RandomForestClassifier(n_estimators = 6)\n",
        "rf.fit(X_train,Y_train);\n",
        "y_pred = rf.predict(X_test)\n",
        "\n",
        "mae = mean_absolute_error(Y_test,y_pred)\n",
        "print(\"mae: %f\" %(mae))\n",
        "\n",
        "Rsquare=rf.score(X_test,Y_test)\n",
        "print(\"Rsquare: %f\" %(Rsquare))\n",
        "\n",
        "rmse=np.sqrt(mean_squared_error(Y_test,y_pred))\n",
        "print(\"rmse: %f\" %(rmse))"
      ],
      "execution_count": 0,
      "outputs": [
        {
          "output_type": "stream",
          "text": [
            "mae: 662.102892\n",
            "Rsquare: 0.119454\n",
            "rmse: 1423.369221\n"
          ],
          "name": "stdout"
        }
      ]
    },
    {
      "cell_type": "code",
      "metadata": {
        "id": "ysso3njYfInW",
        "colab_type": "code",
        "outputId": "9f0dfc3a-4f6a-4997-c5bc-153750998a26",
        "colab": {
          "base_uri": "https://localhost:8080/",
          "height": 1000
        }
      },
      "source": [
        "import warnings\n",
        "warnings.filterwarnings('ignore')\n",
        "from keras.models import Sequential,model_from_json\n",
        "from keras.layers import Dense\n",
        "from keras.optimizers import RMSprop\n",
        "\n",
        "model = Sequential()\n",
        "model.add(Dense(256, activation='relu', input_shape=(8,)))\n",
        "model.add(Dense(256, activation='relu'))\n",
        "model.add(Dense(256, activation='relu'))\n",
        "model.add(Dense(256, activation='relu'))\n",
        "model.add(Dense(1, activation='relu'))\n",
        "model.summary()\n",
        "model.compile(loss='mean_absolute_error', optimizer='adam', metrics=['mean_absolute_error','mean_squared_error'])\n",
        "history = model.fit(X_train,Y_train,batch_size=64,epochs=100,verbose=2)\n",
        "test=model.evaluate(X_test, Y_test, verbose=1)"
      ],
      "execution_count": 0,
      "outputs": [
        {
          "output_type": "stream",
          "text": [
            "Using TensorFlow backend.\n"
          ],
          "name": "stderr"
        },
        {
          "output_type": "stream",
          "text": [
            "WARNING:tensorflow:From /usr/local/lib/python3.6/dist-packages/keras/backend/tensorflow_backend.py:66: The name tf.get_default_graph is deprecated. Please use tf.compat.v1.get_default_graph instead.\n",
            "\n",
            "WARNING:tensorflow:From /usr/local/lib/python3.6/dist-packages/keras/backend/tensorflow_backend.py:541: The name tf.placeholder is deprecated. Please use tf.compat.v1.placeholder instead.\n",
            "\n",
            "WARNING:tensorflow:From /usr/local/lib/python3.6/dist-packages/keras/backend/tensorflow_backend.py:4432: The name tf.random_uniform is deprecated. Please use tf.random.uniform instead.\n",
            "\n",
            "Model: \"sequential_1\"\n",
            "_________________________________________________________________\n",
            "Layer (type)                 Output Shape              Param #   \n",
            "=================================================================\n",
            "dense_1 (Dense)              (None, 256)               2304      \n",
            "_________________________________________________________________\n",
            "dense_2 (Dense)              (None, 256)               65792     \n",
            "_________________________________________________________________\n",
            "dense_3 (Dense)              (None, 256)               65792     \n",
            "_________________________________________________________________\n",
            "dense_4 (Dense)              (None, 256)               65792     \n",
            "_________________________________________________________________\n",
            "dense_5 (Dense)              (None, 1)                 257       \n",
            "=================================================================\n",
            "Total params: 199,937\n",
            "Trainable params: 199,937\n",
            "Non-trainable params: 0\n",
            "_________________________________________________________________\n",
            "WARNING:tensorflow:From /usr/local/lib/python3.6/dist-packages/keras/optimizers.py:793: The name tf.train.Optimizer is deprecated. Please use tf.compat.v1.train.Optimizer instead.\n",
            "\n",
            "WARNING:tensorflow:From /usr/local/lib/python3.6/dist-packages/keras/backend/tensorflow_backend.py:1033: The name tf.assign_add is deprecated. Please use tf.compat.v1.assign_add instead.\n",
            "\n",
            "WARNING:tensorflow:From /usr/local/lib/python3.6/dist-packages/keras/backend/tensorflow_backend.py:1020: The name tf.assign is deprecated. Please use tf.compat.v1.assign instead.\n",
            "\n",
            "WARNING:tensorflow:From /usr/local/lib/python3.6/dist-packages/keras/backend/tensorflow_backend.py:3005: The name tf.Session is deprecated. Please use tf.compat.v1.Session instead.\n",
            "\n",
            "Epoch 1/100\n",
            "WARNING:tensorflow:From /usr/local/lib/python3.6/dist-packages/keras/backend/tensorflow_backend.py:190: The name tf.get_default_session is deprecated. Please use tf.compat.v1.get_default_session instead.\n",
            "\n",
            "WARNING:tensorflow:From /usr/local/lib/python3.6/dist-packages/keras/backend/tensorflow_backend.py:197: The name tf.ConfigProto is deprecated. Please use tf.compat.v1.ConfigProto instead.\n",
            "\n",
            "WARNING:tensorflow:From /usr/local/lib/python3.6/dist-packages/keras/backend/tensorflow_backend.py:207: The name tf.global_variables is deprecated. Please use tf.compat.v1.global_variables instead.\n",
            "\n",
            "WARNING:tensorflow:From /usr/local/lib/python3.6/dist-packages/keras/backend/tensorflow_backend.py:216: The name tf.is_variable_initialized is deprecated. Please use tf.compat.v1.is_variable_initialized instead.\n",
            "\n",
            "WARNING:tensorflow:From /usr/local/lib/python3.6/dist-packages/keras/backend/tensorflow_backend.py:223: The name tf.variables_initializer is deprecated. Please use tf.compat.v1.variables_initializer instead.\n",
            "\n",
            " - 2s - loss: 1142.2560 - mean_absolute_error: 1142.2560 - mean_squared_error: 4974731.1613\n",
            "Epoch 2/100\n",
            " - 2s - loss: 683.7144 - mean_absolute_error: 683.7144 - mean_squared_error: 1869701.3840\n",
            "Epoch 3/100\n",
            " - 2s - loss: 670.4975 - mean_absolute_error: 670.4975 - mean_squared_error: 1753328.3415\n",
            "Epoch 4/100\n",
            " - 2s - loss: 652.2223 - mean_absolute_error: 652.2223 - mean_squared_error: 1742037.3582\n",
            "Epoch 5/100\n",
            " - 2s - loss: 648.5562 - mean_absolute_error: 648.5562 - mean_squared_error: 1609571.4544\n",
            "Epoch 6/100\n",
            " - 2s - loss: 655.2072 - mean_absolute_error: 655.2072 - mean_squared_error: 1680877.1602\n",
            "Epoch 7/100\n",
            " - 2s - loss: 644.3913 - mean_absolute_error: 644.3913 - mean_squared_error: 1617512.9474\n",
            "Epoch 8/100\n",
            " - 2s - loss: 628.3378 - mean_absolute_error: 628.3378 - mean_squared_error: 1570822.9784\n",
            "Epoch 9/100\n",
            " - 2s - loss: 613.7837 - mean_absolute_error: 613.7837 - mean_squared_error: 1462166.6291\n",
            "Epoch 10/100\n",
            " - 2s - loss: 591.9037 - mean_absolute_error: 591.9037 - mean_squared_error: 1395901.8022\n",
            "Epoch 11/100\n",
            " - 2s - loss: 576.9025 - mean_absolute_error: 576.9025 - mean_squared_error: 1347125.8118\n",
            "Epoch 12/100\n",
            " - 2s - loss: 559.3013 - mean_absolute_error: 559.3013 - mean_squared_error: 1296098.5844\n",
            "Epoch 13/100\n",
            " - 2s - loss: 572.5152 - mean_absolute_error: 572.5152 - mean_squared_error: 1296420.4102\n",
            "Epoch 14/100\n",
            " - 2s - loss: 554.9423 - mean_absolute_error: 554.9423 - mean_squared_error: 1230267.3996\n",
            "Epoch 15/100\n",
            " - 2s - loss: 546.9754 - mean_absolute_error: 546.9754 - mean_squared_error: 1218388.6891\n",
            "Epoch 16/100\n",
            " - 2s - loss: 541.4628 - mean_absolute_error: 541.4628 - mean_squared_error: 1171587.1422\n",
            "Epoch 17/100\n",
            " - 2s - loss: 542.9209 - mean_absolute_error: 542.9209 - mean_squared_error: 1162647.6266\n",
            "Epoch 18/100\n",
            " - 2s - loss: 538.5580 - mean_absolute_error: 538.5580 - mean_squared_error: 1121117.0314\n",
            "Epoch 19/100\n",
            " - 2s - loss: 530.5083 - mean_absolute_error: 530.5083 - mean_squared_error: 1094322.6932\n",
            "Epoch 20/100\n",
            " - 2s - loss: 525.8954 - mean_absolute_error: 525.8954 - mean_squared_error: 1090404.5474\n",
            "Epoch 21/100\n",
            " - 2s - loss: 523.7265 - mean_absolute_error: 523.7265 - mean_squared_error: 1080647.4950\n",
            "Epoch 22/100\n",
            " - 2s - loss: 520.8808 - mean_absolute_error: 520.8808 - mean_squared_error: 1063001.0177\n",
            "Epoch 23/100\n",
            " - 2s - loss: 516.5054 - mean_absolute_error: 516.5054 - mean_squared_error: 1077619.7652\n",
            "Epoch 24/100\n",
            " - 2s - loss: 516.8929 - mean_absolute_error: 516.8929 - mean_squared_error: 1052883.6909\n",
            "Epoch 25/100\n",
            " - 2s - loss: 505.1577 - mean_absolute_error: 505.1577 - mean_squared_error: 1008141.4115\n",
            "Epoch 26/100\n",
            " - 2s - loss: 497.2897 - mean_absolute_error: 497.2897 - mean_squared_error: 989208.8269\n",
            "Epoch 27/100\n",
            " - 2s - loss: 505.4478 - mean_absolute_error: 505.4478 - mean_squared_error: 1001737.6835\n",
            "Epoch 28/100\n",
            " - 2s - loss: 493.3032 - mean_absolute_error: 493.3032 - mean_squared_error: 985346.8763\n",
            "Epoch 29/100\n",
            " - 2s - loss: 491.9199 - mean_absolute_error: 491.9199 - mean_squared_error: 980520.9773\n",
            "Epoch 30/100\n",
            " - 2s - loss: 484.8980 - mean_absolute_error: 484.8980 - mean_squared_error: 975630.3479\n",
            "Epoch 31/100\n",
            " - 2s - loss: 484.3650 - mean_absolute_error: 484.3650 - mean_squared_error: 960979.8540\n",
            "Epoch 32/100\n",
            " - 2s - loss: 470.8035 - mean_absolute_error: 470.8035 - mean_squared_error: 928985.5960\n",
            "Epoch 33/100\n",
            " - 2s - loss: 475.9704 - mean_absolute_error: 475.9704 - mean_squared_error: 964469.1236\n",
            "Epoch 34/100\n",
            " - 2s - loss: 474.1092 - mean_absolute_error: 474.1092 - mean_squared_error: 936701.6256\n",
            "Epoch 35/100\n",
            " - 2s - loss: 475.5889 - mean_absolute_error: 475.5889 - mean_squared_error: 962552.4151\n",
            "Epoch 36/100\n",
            " - 2s - loss: 468.3588 - mean_absolute_error: 468.3588 - mean_squared_error: 921205.9300\n",
            "Epoch 37/100\n",
            " - 2s - loss: 467.5546 - mean_absolute_error: 467.5546 - mean_squared_error: 921019.7142\n",
            "Epoch 38/100\n",
            " - 2s - loss: 465.1474 - mean_absolute_error: 465.1474 - mean_squared_error: 912210.8240\n",
            "Epoch 39/100\n",
            " - 2s - loss: 456.8909 - mean_absolute_error: 456.8909 - mean_squared_error: 898802.2833\n",
            "Epoch 40/100\n",
            " - 2s - loss: 467.1273 - mean_absolute_error: 467.1273 - mean_squared_error: 919188.5894\n",
            "Epoch 41/100\n",
            " - 2s - loss: 458.9882 - mean_absolute_error: 458.9882 - mean_squared_error: 908115.7711\n",
            "Epoch 42/100\n",
            " - 2s - loss: 457.0351 - mean_absolute_error: 457.0351 - mean_squared_error: 908724.9204\n",
            "Epoch 43/100\n",
            " - 2s - loss: 450.2020 - mean_absolute_error: 450.2020 - mean_squared_error: 890942.8765\n",
            "Epoch 44/100\n",
            " - 2s - loss: 464.8194 - mean_absolute_error: 464.8194 - mean_squared_error: 931254.1325\n",
            "Epoch 45/100\n",
            " - 2s - loss: 447.9897 - mean_absolute_error: 447.9897 - mean_squared_error: 894454.2295\n",
            "Epoch 46/100\n",
            " - 2s - loss: 445.0062 - mean_absolute_error: 445.0062 - mean_squared_error: 894963.4981\n",
            "Epoch 47/100\n",
            " - 2s - loss: 454.6678 - mean_absolute_error: 454.6678 - mean_squared_error: 893585.4892\n",
            "Epoch 48/100\n",
            " - 2s - loss: 447.3534 - mean_absolute_error: 447.3534 - mean_squared_error: 890018.0577\n",
            "Epoch 49/100\n",
            " - 2s - loss: 444.6337 - mean_absolute_error: 444.6337 - mean_squared_error: 883931.4586\n",
            "Epoch 50/100\n",
            " - 2s - loss: 440.4291 - mean_absolute_error: 440.4291 - mean_squared_error: 878195.3269\n",
            "Epoch 51/100\n",
            " - 2s - loss: 442.2441 - mean_absolute_error: 442.2441 - mean_squared_error: 880940.5564\n",
            "Epoch 52/100\n",
            " - 2s - loss: 442.9048 - mean_absolute_error: 442.9048 - mean_squared_error: 890593.1318\n",
            "Epoch 53/100\n",
            " - 2s - loss: 439.7391 - mean_absolute_error: 439.7391 - mean_squared_error: 872176.3461\n",
            "Epoch 54/100\n",
            " - 2s - loss: 442.6076 - mean_absolute_error: 442.6076 - mean_squared_error: 881367.9279\n",
            "Epoch 55/100\n",
            " - 2s - loss: 436.0511 - mean_absolute_error: 436.0511 - mean_squared_error: 869448.8707\n",
            "Epoch 56/100\n",
            " - 2s - loss: 434.6314 - mean_absolute_error: 434.6314 - mean_squared_error: 870822.5550\n",
            "Epoch 57/100\n",
            " - 2s - loss: 438.4162 - mean_absolute_error: 438.4162 - mean_squared_error: 881333.6411\n",
            "Epoch 58/100\n",
            " - 2s - loss: 440.2554 - mean_absolute_error: 440.2554 - mean_squared_error: 883729.8094\n",
            "Epoch 59/100\n",
            " - 2s - loss: 430.2911 - mean_absolute_error: 430.2911 - mean_squared_error: 862114.6285\n",
            "Epoch 60/100\n",
            " - 2s - loss: 432.4179 - mean_absolute_error: 432.4179 - mean_squared_error: 860196.7251\n",
            "Epoch 61/100\n",
            " - 2s - loss: 430.1292 - mean_absolute_error: 430.1292 - mean_squared_error: 860722.0408\n",
            "Epoch 62/100\n",
            " - 2s - loss: 429.4758 - mean_absolute_error: 429.4758 - mean_squared_error: 861396.3251\n",
            "Epoch 63/100\n",
            " - 2s - loss: 430.6094 - mean_absolute_error: 430.6094 - mean_squared_error: 858991.3085\n",
            "Epoch 64/100\n",
            " - 2s - loss: 432.0868 - mean_absolute_error: 432.0868 - mean_squared_error: 874856.2098\n",
            "Epoch 65/100\n",
            " - 2s - loss: 427.3723 - mean_absolute_error: 427.3723 - mean_squared_error: 847910.3373\n",
            "Epoch 66/100\n",
            " - 2s - loss: 427.4255 - mean_absolute_error: 427.4255 - mean_squared_error: 859027.4930\n",
            "Epoch 67/100\n",
            " - 2s - loss: 433.4848 - mean_absolute_error: 433.4848 - mean_squared_error: 862248.2359\n",
            "Epoch 68/100\n",
            " - 2s - loss: 427.1695 - mean_absolute_error: 427.1695 - mean_squared_error: 845426.9535\n",
            "Epoch 69/100\n",
            " - 2s - loss: 422.8868 - mean_absolute_error: 422.8868 - mean_squared_error: 847700.0917\n",
            "Epoch 70/100\n",
            " - 2s - loss: 412.6320 - mean_absolute_error: 412.6320 - mean_squared_error: 833422.5668\n",
            "Epoch 71/100\n",
            " - 2s - loss: 424.8420 - mean_absolute_error: 424.8420 - mean_squared_error: 834081.6947\n",
            "Epoch 72/100\n",
            " - 2s - loss: 423.1920 - mean_absolute_error: 423.1920 - mean_squared_error: 852782.8092\n",
            "Epoch 73/100\n",
            " - 2s - loss: 433.4023 - mean_absolute_error: 433.4023 - mean_squared_error: 865671.3839\n",
            "Epoch 74/100\n",
            " - 2s - loss: 419.5639 - mean_absolute_error: 419.5639 - mean_squared_error: 836227.0784\n",
            "Epoch 75/100\n",
            " - 2s - loss: 422.2033 - mean_absolute_error: 422.2033 - mean_squared_error: 837691.3048\n",
            "Epoch 76/100\n",
            " - 2s - loss: 418.6960 - mean_absolute_error: 418.6960 - mean_squared_error: 825127.7454\n",
            "Epoch 77/100\n",
            " - 2s - loss: 421.2761 - mean_absolute_error: 421.2761 - mean_squared_error: 832408.0604\n",
            "Epoch 78/100\n",
            " - 2s - loss: 418.1743 - mean_absolute_error: 418.1743 - mean_squared_error: 836012.7660\n",
            "Epoch 79/100\n",
            " - 2s - loss: 416.2162 - mean_absolute_error: 416.2162 - mean_squared_error: 833595.7612\n",
            "Epoch 80/100\n",
            " - 2s - loss: 416.6634 - mean_absolute_error: 416.6634 - mean_squared_error: 823485.7169\n",
            "Epoch 81/100\n",
            " - 2s - loss: 415.8757 - mean_absolute_error: 415.8757 - mean_squared_error: 825478.7541\n",
            "Epoch 82/100\n",
            " - 2s - loss: 413.2791 - mean_absolute_error: 413.2791 - mean_squared_error: 821927.1211\n",
            "Epoch 83/100\n",
            " - 2s - loss: 411.2965 - mean_absolute_error: 411.2965 - mean_squared_error: 828913.3427\n",
            "Epoch 84/100\n",
            " - 2s - loss: 416.9072 - mean_absolute_error: 416.9072 - mean_squared_error: 831592.5088\n",
            "Epoch 85/100\n",
            " - 2s - loss: 410.6080 - mean_absolute_error: 410.6080 - mean_squared_error: 816979.3123\n",
            "Epoch 86/100\n",
            " - 2s - loss: 414.2746 - mean_absolute_error: 414.2746 - mean_squared_error: 824664.0974\n",
            "Epoch 87/100\n",
            " - 2s - loss: 413.4062 - mean_absolute_error: 413.4062 - mean_squared_error: 827187.7168\n",
            "Epoch 88/100\n",
            " - 2s - loss: 412.8788 - mean_absolute_error: 412.8788 - mean_squared_error: 826443.8033\n",
            "Epoch 89/100\n",
            " - 2s - loss: 411.0444 - mean_absolute_error: 411.0444 - mean_squared_error: 823034.9738\n",
            "Epoch 90/100\n",
            " - 2s - loss: 411.2415 - mean_absolute_error: 411.2415 - mean_squared_error: 824490.4128\n",
            "Epoch 91/100\n",
            " - 2s - loss: 408.3895 - mean_absolute_error: 408.3895 - mean_squared_error: 813181.1887\n",
            "Epoch 92/100\n",
            " - 2s - loss: 409.1331 - mean_absolute_error: 409.1331 - mean_squared_error: 813993.2191\n",
            "Epoch 93/100\n",
            " - 2s - loss: 407.6372 - mean_absolute_error: 407.6372 - mean_squared_error: 811709.7598\n",
            "Epoch 94/100\n",
            " - 2s - loss: 407.7169 - mean_absolute_error: 407.7169 - mean_squared_error: 821606.4009\n",
            "Epoch 95/100\n",
            " - 2s - loss: 409.7164 - mean_absolute_error: 409.7164 - mean_squared_error: 818951.3949\n",
            "Epoch 96/100\n",
            " - 2s - loss: 409.0367 - mean_absolute_error: 409.0367 - mean_squared_error: 814195.7611\n",
            "Epoch 97/100\n",
            " - 2s - loss: 407.9015 - mean_absolute_error: 407.9015 - mean_squared_error: 804822.1384\n",
            "Epoch 98/100\n",
            " - 2s - loss: 410.0254 - mean_absolute_error: 410.0254 - mean_squared_error: 817475.7195\n",
            "Epoch 99/100\n",
            " - 2s - loss: 406.9581 - mean_absolute_error: 406.9581 - mean_squared_error: 816883.3755\n",
            "Epoch 100/100\n",
            " - 2s - loss: 402.5672 - mean_absolute_error: 402.5672 - mean_squared_error: 799323.3649\n",
            "16182/16182 [==============================] - 0s 19us/step\n"
          ],
          "name": "stdout"
        }
      ]
    },
    {
      "cell_type": "code",
      "metadata": {
        "id": "jeGLaYYRfpd6",
        "colab_type": "code",
        "outputId": "489db17a-b164-4ddc-9410-56db6427a87c",
        "colab": {
          "base_uri": "https://localhost:8080/",
          "height": 235
        }
      },
      "source": [
        "from sklearn.linear_model import Ridge\n",
        "reg_all = Ridge()\n",
        "\n",
        "X_train,X_test,Y_train,Y_test=train_test_split(X,Y,test_size=0.3,random_state=42)\n",
        "\n",
        "reg_all.fit(X_train, Y_train)\n",
        "y_pred = reg_all.predict(X_test)\n",
        "\n",
        "Rsquare=reg_all.score(X_test,Y_test)\n",
        "print(\"Rsquare: %f\" %(Rsquare))\n",
        "\n",
        "#List all the indepedent variables with the coeffecient from the linear regression model\n",
        "coeff_df = pd.DataFrame(X_train.columns)\n",
        "coeff_df.columns = ['Variable']\n",
        "coeff_df[\"Coeff\"] = pd.Series(reg_all.coef_)\n",
        "\n",
        "coeff_df.sort_values(by='Coeff', ascending=True)\n",
        "print(coeff_df)\n",
        "\n",
        "#print intercept and rmse\n",
        "print(\"Intercept: %f\" %(reg_all.intercept_))\n",
        "mae = mean_absolute_error(Y_test,y_pred)\n",
        "print(\"mae: %f\" %(mae))\n",
        "rmse=np.sqrt(mean_squared_error(Y_test,y_pred))\n",
        "print(\"rmse: %f\" %(rmse))"
      ],
      "execution_count": 0,
      "outputs": [
        {
          "output_type": "stream",
          "text": [
            "Rsquare: 0.861495\n",
            "     Variable         Coeff\n",
            "0       carat  10646.223712\n",
            "1           x  -1179.733202\n",
            "2           y    957.248356\n",
            "3           z   -613.468957\n",
            "4   width_top    -15.060315\n",
            "5      cut/wt     30.189140\n",
            "6    color/wt    -47.879054\n",
            "7  clarity/wt    -64.244962\n",
            "Intercept: 4570.577744\n",
            "mae: 895.901441\n",
            "rmse: 1469.735906\n"
          ],
          "name": "stdout"
        }
      ]
    },
    {
      "cell_type": "code",
      "metadata": {
        "id": "PHjdoq-bmsFb",
        "colab_type": "code",
        "outputId": "186f6d10-c52e-4e0b-df9d-d00ace3c81c5",
        "colab": {
          "base_uri": "https://localhost:8080/",
          "height": 67
        }
      },
      "source": [
        "from sklearn.linear_model import Ridge\n",
        "from sklearn.preprocessing import PolynomialFeatures\n",
        "\n",
        "reg_all = Ridge()\n",
        "\n",
        "X_train,X_test,Y_train,Y_test=train_test_split(X,Y,test_size=0.3,random_state=42)\n",
        "\n",
        "poly = PolynomialFeatures(degree = 2)\n",
        "X_train = poly.fit_transform(X_train)\n",
        "X_test = poly.fit_transform(X_test)\n",
        "\n",
        "reg_all.fit(X_train, Y_train)\n",
        "y_pred = reg_all.predict(X_test)\n",
        "\n",
        "Rsquare=reg_all.score(X_test,Y_test)\n",
        "print(\"Rsquare: %f\" %(Rsquare))\n",
        "print(\"mae: %f\" %(mae))\n",
        "rmse=np.sqrt(mean_squared_error(Y_test,y_pred))\n",
        "print(\"rmse: %f\" %(rmse))"
      ],
      "execution_count": 0,
      "outputs": [
        {
          "output_type": "stream",
          "text": [
            "Rsquare: 0.933361\n",
            "mae: 895.901441\n",
            "rmse: 1019.458876\n"
          ],
          "name": "stdout"
        }
      ]
    },
    {
      "cell_type": "code",
      "metadata": {
        "id": "GOj90_n7nXsQ",
        "colab_type": "code",
        "outputId": "b1d8cac4-e74b-41b5-b44d-2726ecdf17f3",
        "colab": {
          "base_uri": "https://localhost:8080/",
          "height": 235
        }
      },
      "source": [
        "from sklearn.linear_model import Lasso\n",
        "reg_all = Lasso()\n",
        "\n",
        "X_train,X_test,Y_train,Y_test=train_test_split(X,Y,test_size=0.3,random_state=42)\n",
        "\n",
        "reg_all.fit(X_train, Y_train)\n",
        "y_pred = reg_all.predict(X_test)\n",
        "\n",
        "Rsquare=reg_all.score(X_test,Y_test)\n",
        "print(\"Rsquare: %f\" %(Rsquare))\n",
        "\n",
        "#List all the indepedent variables with the coeffecient from the linear regression model\n",
        "coeff_df = pd.DataFrame(X_train.columns)\n",
        "coeff_df.columns = ['Variable']\n",
        "coeff_df[\"Coeff\"] = pd.Series(reg_all.coef_)\n",
        "\n",
        "coeff_df.sort_values(by='Coeff', ascending=True)\n",
        "print(coeff_df)\n",
        "\n",
        "#print intercept and rmse\n",
        "print(\"Intercept: %f\" %(reg_all.intercept_))\n",
        "mae = mean_absolute_error(Y_test,y_pred)\n",
        "print(\"mae: %f\" %(mae))\n",
        "rmse=np.sqrt(mean_squared_error(Y_test,y_pred))\n",
        "print(\"rmse: %f\" %(rmse))"
      ],
      "execution_count": 0,
      "outputs": [
        {
          "output_type": "stream",
          "text": [
            "Rsquare: 0.861383\n",
            "     Variable         Coeff\n",
            "0       carat  10535.165578\n",
            "1           x  -1120.871273\n",
            "2           y    910.989068\n",
            "3           z   -586.716075\n",
            "4   width_top    -14.700856\n",
            "5      cut/wt     30.030368\n",
            "6    color/wt    -46.776716\n",
            "7  clarity/wt    -63.683597\n",
            "Intercept: 4363.162940\n",
            "mae: 897.854221\n",
            "rmse: 1470.330486\n"
          ],
          "name": "stdout"
        }
      ]
    },
    {
      "cell_type": "code",
      "metadata": {
        "id": "zYZ90HTsn1zD",
        "colab_type": "code",
        "outputId": "42e63646-dca3-4c94-d1da-0010ef5464dc",
        "colab": {
          "base_uri": "https://localhost:8080/",
          "height": 121
        }
      },
      "source": [
        "from sklearn.linear_model import Lasso\n",
        "from sklearn.preprocessing import PolynomialFeatures\n",
        "\n",
        "reg_all = Lasso()\n",
        "\n",
        "X_train,X_test,Y_train,Y_test=train_test_split(X,Y,test_size=0.3,random_state=42)\n",
        "\n",
        "poly = PolynomialFeatures(degree = 2)\n",
        "X_train = poly.fit_transform(X_train)\n",
        "X_test = poly.fit_transform(X_test)\n",
        "\n",
        "reg_all.fit(X_train, Y_train)\n",
        "y_pred = reg_all.predict(X_test)\n",
        "\n",
        "Rsquare=reg_all.score(X_test,Y_test)\n",
        "print(\"Rsquare: %f\" %(Rsquare))\n",
        "print(\"mae: %f\" %(mae))\n",
        "rmse=np.sqrt(mean_squared_error(Y_test,y_pred))\n",
        "print(\"rmse: %f\" %(rmse))"
      ],
      "execution_count": 0,
      "outputs": [
        {
          "output_type": "stream",
          "text": [
            "Rsquare: 0.930647\n",
            "mae: 897.854221\n",
            "rmse: 1040.014998\n"
          ],
          "name": "stdout"
        },
        {
          "output_type": "stream",
          "text": [
            "/usr/local/lib/python3.6/dist-packages/sklearn/linear_model/coordinate_descent.py:475: ConvergenceWarning: Objective did not converge. You might want to increase the number of iterations. Duality gap: 22477361707.529552, tolerance: 60605526.52466703\n",
            "  positive)\n"
          ],
          "name": "stderr"
        }
      ]
    },
    {
      "cell_type": "code",
      "metadata": {
        "id": "AuQSSEQHn9Od",
        "colab_type": "code",
        "colab": {}
      },
      "source": [
        ""
      ],
      "execution_count": 0,
      "outputs": []
    }
  ]
}